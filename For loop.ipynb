{
 "cells": [
  {
   "cell_type": "code",
   "execution_count": 2,
   "id": "bcca3ca8-0b86-47ff-bb17-52dda21d96b3",
   "metadata": {},
   "outputs": [],
   "source": [
    "l=[1,23,45,34,2,3,4,5,6]"
   ]
  },
  {
   "cell_type": "code",
   "execution_count": 8,
   "id": "17897a30-8c89-40c8-8ad9-0e6d4a8814cc",
   "metadata": {},
   "outputs": [
    {
     "name": "stdout",
     "output_type": "stream",
     "text": [
      "2\n",
      "24\n",
      "46\n",
      "35\n",
      "3\n",
      "4\n",
      "5\n",
      "6\n",
      "7\n"
     ]
    },
    {
     "data": {
      "text/plain": [
       "[2, 24, 46, 35, 3, 4, 5, 6, 7]"
      ]
     },
     "execution_count": 8,
     "metadata": {},
     "output_type": "execute_result"
    }
   ],
   "source": [
    "l1=[]\n",
    "for i in l:\n",
    "    print(i+1)\n",
    "    l1.append(i+1)\n",
    "    \n",
    "l1"
   ]
  },
  {
   "cell_type": "code",
   "execution_count": 9,
   "id": "e1c0fff2-f7b0-4388-b5d2-300224d14663",
   "metadata": {},
   "outputs": [
    {
     "data": {
      "text/plain": [
       "[1, 23, 45, 34, 2, 3, 4, 5, 6]"
      ]
     },
     "execution_count": 9,
     "metadata": {},
     "output_type": "execute_result"
    }
   ],
   "source": [
    "l"
   ]
  },
  {
   "cell_type": "code",
   "execution_count": 10,
   "id": "124d236d-58f6-495e-8621-c746affef770",
   "metadata": {},
   "outputs": [],
   "source": [
    "l=[\"sumit\",\"kumar\",\"prajapati\",\"amit\"]"
   ]
  },
  {
   "cell_type": "code",
   "execution_count": 16,
   "id": "69be404b-ef49-447d-b24a-63ffac5a8207",
   "metadata": {},
   "outputs": [
    {
     "name": "stdout",
     "output_type": "stream",
     "text": [
      "sumit\n",
      "kumar\n",
      "prajapati\n",
      "amit\n"
     ]
    }
   ],
   "source": [
    "l1=[]\n",
    "for i in l:\n",
    "    print(i)\n",
    "    l1.append(i.upper())"
   ]
  },
  {
   "cell_type": "code",
   "execution_count": 17,
   "id": "28adce50-c648-40ee-910c-e90965e7ef3d",
   "metadata": {},
   "outputs": [
    {
     "data": {
      "text/plain": [
       "['SUMIT', 'KUMAR', 'PRAJAPATI', 'AMIT']"
      ]
     },
     "execution_count": 17,
     "metadata": {},
     "output_type": "execute_result"
    }
   ],
   "source": [
    "l1"
   ]
  },
  {
   "cell_type": "code",
   "execution_count": 18,
   "id": "0e7aa255-0b36-4364-b61e-9a5a710a7cf2",
   "metadata": {},
   "outputs": [],
   "source": [
    "l=[1,2,3,4,5,3,\"sumit\",\"kumar\",234,456,34,3,\"abc\"]"
   ]
  },
  {
   "cell_type": "code",
   "execution_count": 19,
   "id": "ca464357-90e1-4b89-9142-6d83ac123204",
   "metadata": {},
   "outputs": [
    {
     "data": {
      "text/plain": [
       "[1, 2, 3, 4, 5, 3, 'sumit', 'kumar', 234, 456, 34, 3, 'abc']"
      ]
     },
     "execution_count": 19,
     "metadata": {},
     "output_type": "execute_result"
    }
   ],
   "source": [
    "l"
   ]
  },
  {
   "cell_type": "code",
   "execution_count": 20,
   "id": "298eb43e-84dc-490a-ac4e-1e62c1c23aa6",
   "metadata": {},
   "outputs": [],
   "source": [
    "l1_num=[]\n",
    "l2_str=[]\n",
    "for i in l:\n",
    "    if type(i)==int or type(i)== float:\n",
    "        l1_num.append(i)\n",
    "    else:\n",
    "        l2_str.append(i)"
   ]
  },
  {
   "cell_type": "code",
   "execution_count": 21,
   "id": "c680bb45-3e4b-4ef5-b8b2-7a9580eec313",
   "metadata": {},
   "outputs": [
    {
     "data": {
      "text/plain": [
       "[1, 2, 3, 4, 5, 3, 234, 456, 34, 3]"
      ]
     },
     "execution_count": 21,
     "metadata": {},
     "output_type": "execute_result"
    }
   ],
   "source": [
    "l1_num"
   ]
  },
  {
   "cell_type": "code",
   "execution_count": 22,
   "id": "dca774af-9f47-4429-b2e2-7389d4ba8651",
   "metadata": {},
   "outputs": [
    {
     "data": {
      "text/plain": [
       "['sumit', 'kumar', 'abc']"
      ]
     },
     "execution_count": 22,
     "metadata": {},
     "output_type": "execute_result"
    }
   ],
   "source": [
    "l2_str"
   ]
  },
  {
   "cell_type": "code",
   "execution_count": null,
   "id": "b42e5676-bc91-40e3-a96c-2532af804968",
   "metadata": {},
   "outputs": [],
   "source": []
  }
 ],
 "metadata": {
  "kernelspec": {
   "display_name": "Python 3 (ipykernel)",
   "language": "python",
   "name": "python3"
  },
  "language_info": {
   "codemirror_mode": {
    "name": "ipython",
    "version": 3
   },
   "file_extension": ".py",
   "mimetype": "text/x-python",
   "name": "python",
   "nbconvert_exporter": "python",
   "pygments_lexer": "ipython3",
   "version": "3.10.8"
  }
 },
 "nbformat": 4,
 "nbformat_minor": 5
}
